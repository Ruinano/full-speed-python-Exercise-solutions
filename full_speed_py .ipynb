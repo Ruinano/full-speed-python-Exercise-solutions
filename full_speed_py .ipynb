{
 "cells": [
  {
   "cell_type": "code",
   "execution_count": 1,
   "metadata": {},
   "outputs": [
    {
     "name": "stdout",
     "output_type": "stream",
     "text": [
      "1.5\n",
      "1\n",
      "1\n",
      "9\n"
     ]
    }
   ],
   "source": [
    "'''__Author__:chZzZzZz\n",
    "full-speed-python习题解答'''\n",
    "#3.1Exercises with numbers\n",
    "#1.Try the following mathematical calculations and guess what is happening: (3/2),(3//2), (3%2), (3**2).\n",
    "print(3/2)\n",
    "print(3//2)\n",
    "print(3%2)\n",
    "print(3**2)"
   ]
  },
  {
   "cell_type": "code",
   "execution_count": 2,
   "metadata": {},
   "outputs": [
    {
     "data": {
      "text/plain": [
       "7.041666666666667"
      ]
     },
     "execution_count": 2,
     "metadata": {},
     "output_type": "execute_result"
    }
   ],
   "source": [
    "#2. Calculate the average of the following sequences of numbers: (2, 4), (4, 8, 9), (12,14/6, 15)\n",
    "a = [2,4]+[4,8,9]+[12,14/6,15]\n",
    "sum = 0\n",
    "for each in a:\n",
    "    sum+=each\n",
    "ave = sum/len(a)\n",
    "ave\n"
   ]
  },
  {
   "cell_type": "code",
   "execution_count": 3,
   "metadata": {},
   "outputs": [
    {
     "data": {
      "text/plain": [
       "523.5833333333333"
      ]
     },
     "execution_count": 3,
     "metadata": {},
     "output_type": "execute_result"
    }
   ],
   "source": [
    "#3. The volume of a sphere is given by 4/3pir3. Calculate the volume of a sphere of radius 5. Suggestion: create a variable named \"pi\" with the value of 3.1415.\n",
    "pi = 3.1415\n",
    "r = 5\n",
    "volume =4/3*(pi*pow(r,3))\n",
    "volume"
   ]
  },
  {
   "cell_type": "code",
   "execution_count": 4,
   "metadata": {},
   "outputs": [
    {
     "name": "stdout",
     "output_type": "stream",
     "text": [
      "1  is odd\n",
      "5  is odd\n",
      "20  is even\n",
      "8.571428571428571  is odd\n"
     ]
    }
   ],
   "source": [
    "#4. Use the module operator (%) to check which of the following numbers is even or odd: (1, 5, 20, 60/7).\n",
    "can = [1,5,20,60/7]\n",
    "for each in can:\n",
    "    if each % 2 == 0:\n",
    "        print(each,' is even')\n",
    "    else:\n",
    "        print(each,' is odd')\n",
    "        \n",
    "        "
   ]
  },
  {
   "cell_type": "code",
   "execution_count": 5,
   "metadata": {},
   "outputs": [
    {
     "data": {
      "text/plain": [
       "True"
      ]
     },
     "execution_count": 5,
     "metadata": {},
     "output_type": "execute_result"
    }
   ],
   "source": [
    "#Find some values for x and y such that x < 1=3 < y returns \"True\" on the Python REPL. Suggestion: try 0 < 1=3 < 1 on the REPL.\n",
    "0<1/3<1"
   ]
  },
  {
   "cell_type": "code",
   "execution_count": 6,
   "metadata": {},
   "outputs": [
    {
     "name": "stdout",
     "output_type": "stream",
     "text": [
      "3\n",
      "aaabbbccc\n",
      "aaabbbccc\n"
     ]
    }
   ],
   "source": [
    "#3.2 Exercise with strings\n",
    "'''1. Initialize the string \"abc\" on a variable named \"s\":\n",
    "(a) Use a function to get the length of the string.\n",
    "(b) Write the necessary sequence of operations to transform the string \"abc\" in\n",
    "\"aaabbbccc\". Suggestion: Use string concatenation and string indexes.'''\n",
    "\n",
    "s='abc'\n",
    "print(len(s))\n",
    "print('{0}{0}{0}{1}{1}{1}{2}{2}{2}'.format('a','b','c'))\n",
    "print(s[0]*3+s[1]*3+s[2]*3)"
   ]
  },
  {
   "cell_type": "code",
   "execution_count": 7,
   "metadata": {},
   "outputs": [
    {
     "name": "stdout",
     "output_type": "stream",
     "text": [
      "3\n",
      "6\n",
      "0\n",
      "aaaXXXccc\n",
      "Xaabbbccc\n"
     ]
    }
   ],
   "source": [
    "'''2. Initialize the string \"aaabbbccc\" on a variable named \"s\":\n",
    "(a) Use a function that allows you to find the first occurence of \"b\" in the string,\n",
    "and the first occurence of \"ccc\".\n",
    "(b) Use a function that allows you to replace all occurences of \"a\" to \"X\", and\n",
    "then use the same function to change only the first occurence of \"a\" to \"X\".'''\n",
    "s='aaabbbccc'\n",
    "print(s.find('b'))\n",
    "print(s.find('ccc'))\n",
    "print(s.find('a'))\n",
    "print(s.replace(s[4],'X'))\n",
    "print(s.replace('a','X',1))\n"
   ]
  },
  {
   "cell_type": "code",
   "execution_count": 8,
   "metadata": {},
   "outputs": [
    {
     "name": "stdout",
     "output_type": "stream",
     "text": [
      "AAA BBB CCC\n",
      "AAA bbb CCC\n"
     ]
    }
   ],
   "source": [
    "'''3. Starting from the string \"aaa bbb ccc\", what sequences of operations do you need\n",
    "to arrive at the following strings? You can find the \"replace\" function.\n",
    "(a) \"AAA BBB CCC\"\n",
    "(b) \"AAA bbb CCC\"'''\n",
    "s='aaa bbb ccc'\n",
    "s=s.upper()\n",
    "print(s)\n",
    "print(s.replace('B','b'))"
   ]
  },
  {
   "cell_type": "code",
   "execution_count": 9,
   "metadata": {},
   "outputs": [
    {
     "name": "stdout",
     "output_type": "stream",
     "text": [
      "Once deleted, variables cannot be recovered. Proceed (y/[n])? y\n",
      "[4, 9]\n",
      "[10, 23]\n",
      "l concatenation 90 is [1, 4, 9, 10, 23]\n",
      "l append 90 is [1, 4, 9, 10, 23, 90]\n",
      "average is 22.833333333333332\n",
      "l remove [4,9] is [1, 10, 23, 90]\n"
     ]
    }
   ],
   "source": [
    "#3.3 Exercise with lists\n",
    "'''Create a list named \"l\" with the following values ([1, 4, 9, 10, 23]).\n",
    "1. Using list slicing get the sublists [4, 9] and [10, 23].\n",
    "2. Append the value 90 to the end of the list \"l\". Check the difference between list\n",
    "concatenation and the \"append\" method.\n",
    "3. Calculate the average value of all values on the list. You can use the \"sum\" and\n",
    "\"len\" functions.\n",
    "4. Remove the sublist [4, 9].'''\n",
    "%reset\n",
    "l = [1,4,9,10,23]\n",
    "print(l[1:3])\n",
    "print(l[3:5])\n",
    "l+[90]\n",
    "print('l concatenation 90 is',l)\n",
    "l.append(90)\n",
    "print('l append 90 is',l)\n",
    "ave = sum(l)/len(l)\n",
    "print('average is',ave)\n",
    "l.remove(4)\n",
    "l.remove(9)\n",
    "print('l remove [4,9] is',l)"
   ]
  },
  {
   "cell_type": "code",
   "execution_count": 10,
   "metadata": {},
   "outputs": [
    {
     "name": "stdout",
     "output_type": "stream",
     "text": [
      "Once deleted, variables cannot be recovered. Proceed (y/[n])? y\n",
      "3 8 7\n",
      "0.0 1.0 2.584962500721156 3.1699250014423126 3.9068905956085187\n",
      "10\n",
      "-0.5440211108893698 -0.8390715290764524 0.6483608274590866\n"
     ]
    }
   ],
   "source": [
    "#4.1 Exercise with the math module\n",
    "'''1. Find the greatest common divisor of the following pairs of numbers: (15, 21), (152,\n",
    "200), (1988, 9765).\n",
    "2. Compute the base-2 logarithm of the following numbers: 0, 1, 2, 6, 9, 15.\n",
    "3. Use the \"input\" function to ask the user for a number and show the result of the\n",
    "sine, cosine and tangent of the number. Make sure that you convert the user input\n",
    "from string to a number (use the int() or the float() function).'''\n",
    "%reset\n",
    "import math \n",
    "print(math.gcd(15,21),math.gcd(152,200),math.gcd(1988,9765))\n",
    "print(math.log(1,2),math.log(2,2),math.log(6,2),math.log(9,2),math.log(15,2))\n",
    "a=int(input())\n",
    "print(math.sin(a),math.cos(a),math.tan(a))"
   ]
  },
  {
   "cell_type": "code",
   "execution_count": 11,
   "metadata": {},
   "outputs": [
    {
     "name": "stdout",
     "output_type": "stream",
     "text": [
      "Once deleted, variables cannot be recovered. Proceed (y/[n])? y\n",
      "Function got value: 1 2\n",
      "Function got value: 1 2 3\n",
      "sum_two: 3 sum_three: 6\n",
      "the greatest one: 4\n",
      "False\n",
      "2.5\n"
     ]
    }
   ],
   "source": [
    "#4.2 Exercise with functions\n",
    "'''1. Implement the \"add2\" function that receives two numbers as arguments and returns\n",
    "the sum of the numbers. Then implement the \"add3\" function that receives and\n",
    "sums 3 parameters.\n",
    "2. Implement a function that returns the greatest of two numbers given as parameters.\n",
    "Use the \"if\" statement to compare both numbers: https://docs.python.org/3/\n",
    "tutorial/controlflow.html#if-statements.\n",
    "3. Implement a function named \"is_divisable\" that receives two parameters (named\n",
    "\"a\" and \"b\") and returns true if \"a\" can be divided by \"b\" or false otherwise. A\n",
    "number is divisable by another when the remainder of the division is zero. Use the\n",
    "modulo operator (\"%\").\n",
    "4. Create a function named \"average\" that computes the average value of a list passed\n",
    "as parameter to the function. Use the \"sum\" and \"len\" functions.'''\n",
    "%reset\n",
    "def add_two(a,b):\n",
    "    print('Function got value:',a,b)\n",
    "    return a+b\n",
    "def add_thr(a,b,c):\n",
    "    print('Function got value:',a,b,c)\n",
    "    return a+b+c\n",
    "sum_two = add_two(1,2)\n",
    "sum_thr = add_thr(1,2,3)\n",
    "print('sum_two:',sum_two,'sum_three:',sum_thr)\n",
    "\n",
    "def comp(num_1,num_2):\n",
    "    if num_1 > num_2:\n",
    "        return num_1\n",
    "    else:\n",
    "        return num_2\n",
    "greatest = comp(3,4)  \n",
    "print('the greatest one:',greatest)\n",
    "    \n",
    "def is_divisible(a,b):\n",
    "    if a%b == 0:\n",
    "        return True\n",
    "    else:\n",
    "        return False\n",
    "print(is_divisible(8,3))    \n",
    "    \n",
    "def average(alist):\n",
    "    ave = sum(alist)/len(alist)\n",
    "    return ave\n",
    "print(average([1,2,3,4]))"
   ]
  },
  {
   "cell_type": "code",
   "execution_count": 12,
   "metadata": {},
   "outputs": [
    {
     "name": "stdout",
     "output_type": "stream",
     "text": [
      "5的递归结果 120\n",
      "the sum of n first integer： 15\n",
      "0\n",
      "1\n",
      "1\n",
      "2\n",
      "3\n",
      "5\n",
      "8\n",
      "13\n",
      "21\n",
      "34\n",
      "55\n",
      "89\n"
     ]
    }
   ],
   "source": [
    "#4.4 Exercise with recursive functions\n",
    "'''1. Implement the factorial function and test it with several different values. Crosscheck\n",
    "with a calculator.\n",
    "2. Implement a recursive function to compute the sum of the n first integer numbers\n",
    "(where n is a function parameter). Start by thinking about the base case (the sum\n",
    "of the first 0 integers is?) and then think about the recursive case.\n",
    "3. The Fibonnaci sequence is a sequence of numbers in which each number of the\n",
    "sequence matches the sum of the previous two terms. Given the following recursive\n",
    "definition implement fib(n).\n",
    "fib(n) =0,if x = 0;\n",
    "       =1,if x =1;\n",
    "       =fib(n-1)+fib(n-2) otherwise.\n",
    "Check your results for the first numbers of the sequence: 0, 1, 1, 2, 3, 5, 8, 13, 21,\n",
    "34, 55, 89, ...'''\n",
    "def factorial(x):\n",
    "    if x == 0:\n",
    "        return 1\n",
    "    else:\n",
    "        return x * factorial(x-1)\n",
    "print('5的递归结果',factorial(5))  \n",
    "\n",
    "def sum_first(n):\n",
    "    if n == 0:\n",
    "        return 0\n",
    "    else:\n",
    "        return n + sum_first(n-1)\n",
    "print('the sum of n first integer：',sum_first(5))    \n",
    "\n",
    "def fib(n):\n",
    "    if n == 0:\n",
    "        return 0\n",
    "    if n == 1:\n",
    "        return 1\n",
    "    else:\n",
    "        return fib(n-1)+fib(n-2)\n",
    "for i in range(12):\n",
    "    print(fib(i))    "
   ]
  },
  {
   "cell_type": "code",
   "execution_count": 13,
   "metadata": {},
   "outputs": [
    {
     "data": {
      "text/plain": [
       "6"
      ]
     },
     "execution_count": 13,
     "metadata": {},
     "output_type": "execute_result"
    }
   ],
   "source": [
    "#5.1 Exercise with the for loop\n",
    "'''1. Create a function \"add\" that receives a list as parameter and returns the sum of\n",
    "all elements in the list. Use the \"for\" loop to iterate over the elements of the list.'''\n",
    "\n",
    "def add(alist):\n",
    "    sum = 0\n",
    "    for each in alist:\n",
    "        sum += each\n",
    "    return sum\n",
    "add([1,2,3])"
   ]
  },
  {
   "cell_type": "code",
   "execution_count": 14,
   "metadata": {},
   "outputs": [
    {
     "data": {
      "text/plain": [
       "10"
      ]
     },
     "execution_count": 14,
     "metadata": {},
     "output_type": "execute_result"
    }
   ],
   "source": [
    "'''2. Create a function that receives a list as parameter and returns the maximum value\n",
    "in the list. As you iterate over the list you may want to keep the maximum value\n",
    "found so far in order to keep comparing it with the next elements of the list.'''\n",
    "def max(alist):\n",
    "    max_value = alist[0]\n",
    "    for i in range(len(alist)):\n",
    "        if alist[i] >= max_value:\n",
    "            max_value = alist[i]\n",
    "    return max_value      \n",
    "max([10,2,3,4,5])\n",
    "        "
   ]
  },
  {
   "cell_type": "code",
   "execution_count": 15,
   "metadata": {},
   "outputs": [
    {
     "name": "stdout",
     "output_type": "stream",
     "text": [
      "maxvalue 10 index: 0\n"
     ]
    }
   ],
   "source": [
    "'''3. Modify the previous function such that it returns a list with the first element being\n",
    "the maximum value and the second being the index of the maximum value in the\n",
    "list. Besides keep the last maximum value found so far, you need to keep also the\n",
    "position where it occured.'''\n",
    "def max(alist):\n",
    "    max_value_index = 0\n",
    "    max_value = alist[max_value_index]\n",
    "    for i,value in enumerate(alist):\n",
    "        if value >= max_value:\n",
    "            max_value_index = i\n",
    "            max_value = value \n",
    "    print( 'maxvalue',max_value, 'index:',max_value_index)\n",
    "max([10,2,3,4,5])"
   ]
  },
  {
   "cell_type": "code",
   "execution_count": 16,
   "metadata": {},
   "outputs": [
    {
     "name": "stdout",
     "output_type": "stream",
     "text": [
      "[5, 4, 3, 2, 1]\n",
      "[5, 4, 3, 2, 1]\n"
     ]
    }
   ],
   "source": [
    "'''4.Implement a function that returns the reverse of a list received as parameter. You\n",
    "may create an empty list and keep adding the values in reversed order as they come\n",
    "from the original list. Check what you can do with lists at https://docs.python.\n",
    "org/3/tutorial/datastructures.html#more-on-lists.'''\n",
    "def reverse(alist):\n",
    "    reverse_list = []\n",
    "    for i in range(len(alist)):\n",
    "        reverse_list.append(alist[len(alist)-1-i])\n",
    "    return reverse_list\n",
    "print(reverse([1,2,3,4,5]))\n",
    "#method_2\n",
    "alist = [1,2,3,4,5]\n",
    "alist.reverse()\n",
    "print(alist)\n"
   ]
  },
  {
   "cell_type": "code",
   "execution_count": 17,
   "metadata": {},
   "outputs": [
    {
     "name": "stdout",
     "output_type": "stream",
     "text": [
      "True\n"
     ]
    }
   ],
   "source": [
    "'''5.Make the function \"is_sorted\" that receives a list as parameter and returns True\n",
    "if the list is sorted by increasing order. For instance [1, 2, 2, 3] is ordered while [1,\n",
    "2, 3, 2] is not. Suggestion: you have to compare a number in the list with the next\n",
    "one, so you can use indexes or you need to keep the previous number in a variable\n",
    "as you iterate over the list.'''\n",
    "def is_sorted(alist):\n",
    "    t = alist[0]\n",
    "    for i in range(1, len(alist)):\n",
    "        if alist[i] < t:\n",
    "            return False\n",
    "        else:\n",
    "            t = alist[i]\n",
    "            i+=1\n",
    "            if i==len(alist):\n",
    "                return True\n",
    "print(is_sorted([1, 2, 3, 3]))        \n",
    "            \n",
    "        "
   ]
  },
  {
   "cell_type": "code",
   "execution_count": 18,
   "metadata": {},
   "outputs": [
    {
     "name": "stdout",
     "output_type": "stream",
     "text": [
      "True\n"
     ]
    }
   ],
   "source": [
    "'''6. Implement the function \"is_sorted_dec\" which is similar to the previous one but\n",
    "all items must be sorted by decreasing order'''\n",
    "def is_sorted_dec(alist):\n",
    "    t = alist[0]\n",
    "    for i in range(1, len(alist)):\n",
    "        if alist[i] > t:\n",
    "            return False\n",
    "        else:\n",
    "            t = alist[i]\n",
    "            i+=1\n",
    "            if i==len(alist):\n",
    "                return True\n",
    "print(is_sorted_dec([3, 2, 2, 1]))      "
   ]
  },
  {
   "cell_type": "code",
   "execution_count": 19,
   "metadata": {},
   "outputs": [
    {
     "name": "stdout",
     "output_type": "stream",
     "text": [
      "1 has duplicate\n",
      "2 has duplicate\n",
      "3 has duplicate\n",
      "3 has duplicate\n"
     ]
    }
   ],
   "source": [
    "'''7. Implement the \"has_duplicates\" function which verifies if a list has duplicate values.\n",
    "You may have to use two \"for\" loops, where for each value you have to check for\n",
    "duplicates on the rest of the list.'''\n",
    "def has_duplicates(alist):\n",
    "    for i in range(len(alist)):\n",
    "        complist = []\n",
    "        for each in alist[i+1:len(alist)]:\n",
    "            t = alist[i] - each\n",
    "            if t == 0:\n",
    "                complist.append(t)\n",
    "        if(len(complist)>0):\n",
    "             print(alist[i],'has duplicate')\n",
    "has_duplicates([1,2,3,3,3,1,2])            "
   ]
  },
  {
   "cell_type": "code",
   "execution_count": 20,
   "metadata": {},
   "outputs": [
    {
     "data": {
      "text/plain": [
       "'No_duplicate'"
      ]
     },
     "execution_count": 20,
     "metadata": {},
     "output_type": "execute_result"
    }
   ],
   "source": [
    "#method_2\n",
    "def has_duplicate(alist):\n",
    "    set_alist = set(alist)\n",
    "    if len(set_alist)!=len(alist):\n",
    "        return 'has_duplicate'\n",
    "    else:\n",
    "        return 'No_duplicate'\n",
    "has_duplicate([1,2,4,3])    \n",
    "    \n",
    "    \n",
    "\n",
    "\n"
   ]
  },
  {
   "cell_type": "code",
   "execution_count": 21,
   "metadata": {},
   "outputs": [
    {
     "name": "stdout",
     "output_type": "stream",
     "text": [
      "1 has been found 1 times\n",
      "2 has been found 3 times\n",
      "3 has been found 2 times\n",
      "78 has been found 2 times\n"
     ]
    }
   ],
   "source": [
    "#method_3\n",
    "def has_duplicate(alist):\n",
    "    set_alist = set(alist)\n",
    "    for item in set_alist:\n",
    "        print(item,'has been found',alist.count(item),'times')\n",
    "has_duplicate([1,2,2,2,3,3,78,78])            "
   ]
  },
  {
   "cell_type": "code",
   "execution_count": 22,
   "metadata": {},
   "outputs": [
    {
     "data": {
      "text/plain": [
       "Counter({1: 1, 2: 3, 3: 2, 78: 2})"
      ]
     },
     "execution_count": 22,
     "metadata": {},
     "output_type": "execute_result"
    }
   ],
   "source": [
    "#method_4\n",
    "from collections import Counter\n",
    "Counter([1,2,2,2,3,3,78,78])"
   ]
  },
  {
   "cell_type": "code",
   "execution_count": 23,
   "metadata": {},
   "outputs": [
    {
     "name": "stdout",
     "output_type": "stream",
     "text": [
      "Odd number: 11\n",
      "Even number: 10\n",
      "Odd number: 9\n",
      "Even number: 8\n",
      "Odd number: 7\n",
      "Even number: 6\n",
      "Odd number: 5\n",
      "Even number: 4\n",
      "Odd number: 3\n",
      "Even number: 2\n",
      "Odd number: 1\n"
     ]
    }
   ],
   "source": [
    "#5.2 Exercise with the while statement\n",
    "def even_odd(n):\n",
    "    while n>0:\n",
    "        if n%2 == 0:\n",
    "            print('Even number:',n)\n",
    "            n -= 1\n",
    "        else:\n",
    "            print('Odd number:',n)\n",
    "            n -= 1\n",
    "even_odd(11)            \n",
    "        "
   ]
  },
  {
   "cell_type": "code",
   "execution_count": 24,
   "metadata": {},
   "outputs": [
    {
     "name": "stdout",
     "output_type": "stream",
     "text": [
      "the num of students: 8\n",
      "average ages of the students: 10.375\n",
      "the oldest onee: ('Marie', 12)\n",
      "the 10 years old student: {'Peter': 10, 'Thomas': 10, 'Bob': 10, 'Gabriel': 10}\n"
     ]
    }
   ],
   "source": [
    "#6.1 Exercise with dictionaries\n",
    "'''1. How many students are in the dictionary? Search for the \"len\" function.\n",
    "2. Implement a function that receives the \"ages\" dictionary as parameter and return\n",
    "the average age of the students. Traverse all items on the dictionary using the\n",
    "\"items\" method as above.\n",
    "3. Implement a function that receives the \"ages\" dictionary as parameter and returns\n",
    "the name of the oldest student.\n",
    "4. Implement a function that receives the \"ages\" dictionary and a number \"n\" and\n",
    "returns a new dict where each student is n years older. For instance, new_ages(ages,\n",
    "10) returns a copy of \"ages\" where each student is 10 years older.'''\n",
    "ages = {'Peter':10,\n",
    "        'Isabel':11,\n",
    "        'Anna':9,\n",
    "        'Thomas':10,\n",
    "        'Bob':10,\n",
    "        'Joseph':11,\n",
    "        'Marie':12,\n",
    "        'Gabriel':10,}\n",
    "print('the num of students:',len(ages))\n",
    "\n",
    "def ave_ages(ages):\n",
    "    sumage = 0\n",
    "    for age in ages.values():\n",
    "        sumage += age\n",
    "    return sumage/len(ages)\n",
    "print('average ages of the students:',ave_ages(ages))\n",
    "\n",
    "def find_oldest(ages):\n",
    "    maxage = 0\n",
    "    oldestname = ''\n",
    "    for name,age in ages.items():\n",
    "        if age > maxage:\n",
    "            maxage = age\n",
    "            oldestname = name\n",
    "    return oldestname,maxage\n",
    "print('the oldest onee:',find_oldest(ages))    \n",
    "\n",
    "def new_ages(ages,n):\n",
    "    new_ages = {}\n",
    "    for name,age in ages.items():\n",
    "        if age == n:\n",
    "            new_ages[name] = n\n",
    "    return new_ages\n",
    "print('the 10 years old student:',new_ages(ages,10))"
   ]
  },
  {
   "cell_type": "code",
   "execution_count": 25,
   "metadata": {},
   "outputs": [
    {
     "name": "stdout",
     "output_type": "stream",
     "text": [
      "there are 3 students\n",
      "the average age: 10.0\n",
      "the students with address Lisbon ['Peter', 'Anna']\n"
     ]
    }
   ],
   "source": [
    "#6.2 Exercise with sub-dictionaries\n",
    "'''1. How many students are in the \"students\" dict? Use the appropriate function.\n",
    "2. Implement a function that receives the students dict and returns the average age.\n",
    "3. Implement a function that receives the students dict and an address, and returns\n",
    "a list with the name of all students which address matches the address in the\n",
    "argument. For instance, invoking \"find_students(students, ’Lisbon’)\" should return\n",
    "Peter and Anna.'''\n",
    "students = {\"Peter\": {\"age\": 10, \"address\": \"Lisbon\"},\n",
    "            \"Isabel\": {\"age\": 11, \"address\": \"Sesimbra\"},\n",
    "            \"Anna\": {\"age\": 9, \"address\": \"Lisbon\"},}\n",
    "\n",
    "print('there are',len(students),'students')\n",
    "\n",
    "def ave_age(dict):\n",
    "    sumage = 0\n",
    "    for stu in students.values():\n",
    "        sumage += stu['age']\n",
    "    return sumage/len(students)    \n",
    "print('the average age:',ave_age(students))     \n",
    "\n",
    "def find_students(dict,address):\n",
    "    stulist = []\n",
    "    for name,stu in students.items():\n",
    "        if stu['address'] == address:\n",
    "            stulist.append(name)\n",
    "    return stulist\n",
    "print('the students with address Lisbon',find_students(students,'Lisbon'))\n",
    "        \n",
    "        "
   ]
  },
  {
   "cell_type": "code",
   "execution_count": 26,
   "metadata": {},
   "outputs": [
    {
     "name": "stdout",
     "output_type": "stream",
     "text": [
      "4\n",
      "coordinate:(1, 1),(3, 3)\n"
     ]
    }
   ],
   "source": [
    "#7.1 Exercise with classes\n",
    "'''1. Implement a class named \"Rectangle\" to store the coordinates of a rectangle given\n",
    "by (x1, y1) and (x2, y2).\n",
    "2. Implement the class constructor with the parameters (x1, y1, x2, y2) and store\n",
    "them in the class instances using the \"self\" keyword.\n",
    "3. Implement the \"width()\" and \"height()\" methods which return, respectively, the\n",
    "width and height of a rectangle. Create two objects, instances of \"Rectangle\" to\n",
    "test the calculations.\n",
    "4. Implement the method \"area\" to return the area of the rectangle (width*height).\n",
    "5. Implement the method \"circumference\" to return the perimeter of the rectangle\n",
    "(2*width + 2*height).\n",
    "6. Do a print of one of the objects created to test the class. Implement the \"__str__\"\n",
    "method such that when you print one of the objects it print the coordinates as (x1,\n",
    "y1)(x2, y2).'''\n",
    "class Rectangle:\n",
    "    def __init__(self,x1,y1,x2,y2):\n",
    "        self.x1 = x1\n",
    "        self.y1 = y1\n",
    "        self.x2 = x2\n",
    "        self.y2 = y2\n",
    "    def __str__(self):    \n",
    "        return 'coordinate:%s,%s'%((self.x1,self.y1),(self.x2,self.y2))\n",
    "    def width(self):\n",
    "        width = abs(self.x1-self.x2)\n",
    "        return width\n",
    "    def height(self):\n",
    "        height = abs(self.y1-self.y2)\n",
    "        return height\n",
    "    def area(self):\n",
    "        return self.width()*self.height()\n",
    "    def circumference(self):\n",
    "        return 2*self.width()+2*self.height()\n",
    "a = Rectangle(1,1,3,3)\n",
    "print(a.area())\n",
    "print(a)\n"
   ]
  },
  {
   "cell_type": "code",
   "execution_count": 27,
   "metadata": {},
   "outputs": [
    {
     "name": "stdout",
     "output_type": "stream",
     "text": [
      "4\n",
      "coordinate:(1, 2),(3, 4)\n"
     ]
    }
   ],
   "source": [
    "# Exercise with inheritance\n",
    "'''1. Create a \"Square\" class as subclass of \"Rectangle\".\n",
    "2. Implement the \"Square\" constructor. The constructor should have only the x1, y1\n",
    "coordinates and the size of the square. Notice which arguments you’ll have to use\n",
    "when you invoce the \"Rectangle\" constructor when you use \"super\".\n",
    "3. Instantiate two objects of \"Square\", invoke the area method and print the objects.\n",
    "Make sure that all calculations are returning correct numbers and that the coordinates\n",
    "of the squares are consistent with the size of the square used as argument.'''\n",
    "class Square(Rectangle):\n",
    "    def __init__(self,x1,y1,size):\n",
    "        super().__init__(x1,y1,x1+size,y1+size)     \n",
    "b = Square(1,2,2)   \n",
    "print(b.area())\n",
    "print(b)"
   ]
  },
  {
   "cell_type": "code",
   "execution_count": null,
   "metadata": {
    "collapsed": true
   },
   "outputs": [],
   "source": []
  },
  {
   "cell_type": "code",
   "execution_count": null,
   "metadata": {
    "collapsed": true
   },
   "outputs": [],
   "source": []
  },
  {
   "cell_type": "code",
   "execution_count": null,
   "metadata": {
    "collapsed": true
   },
   "outputs": [],
   "source": []
  }
 ],
 "metadata": {
  "kernelspec": {
   "display_name": "Python 3",
   "language": "python",
   "name": "python3"
  },
  "language_info": {
   "codemirror_mode": {
    "name": "ipython",
    "version": 3
   },
   "file_extension": ".py",
   "mimetype": "text/x-python",
   "name": "python",
   "nbconvert_exporter": "python",
   "pygments_lexer": "ipython3",
   "version": "3.6.1"
  },
  "toc": {
   "base_numbering": 1,
   "nav_menu": {},
   "number_sections": true,
   "sideBar": true,
   "skip_h1_title": false,
   "title_cell": "Table of Contents",
   "title_sidebar": "Contents",
   "toc_cell": false,
   "toc_position": {},
   "toc_section_display": true,
   "toc_window_display": false
  }
 },
 "nbformat": 4,
 "nbformat_minor": 2
}
